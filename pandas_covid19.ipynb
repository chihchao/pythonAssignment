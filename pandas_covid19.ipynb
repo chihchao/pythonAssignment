{
  "nbformat": 4,
  "nbformat_minor": 0,
  "metadata": {
    "colab": {
      "provenance": [],
      "collapsed_sections": [],
      "authorship_tag": "ABX9TyMyDXp66Jz6xJi8vqI8sSvM",
      "include_colab_link": true
    },
    "kernelspec": {
      "name": "python3",
      "display_name": "Python 3"
    },
    "language_info": {
      "name": "python"
    }
  },
  "cells": [
    {
      "cell_type": "markdown",
      "metadata": {
        "id": "view-in-github",
        "colab_type": "text"
      },
      "source": [
        "<a href=\"https://colab.research.google.com/github/chihchao/pythonAssignment/blob/master/pandas_covid19.ipynb\" target=\"_parent\"><img src=\"https://colab.research.google.com/assets/colab-badge.svg\" alt=\"Open In Colab\"/></a>"
      ]
    },
    {
      "cell_type": "markdown",
      "source": [
        "[傳染病統計資料查詢系統](https://nidss.cdc.gov.tw/nndss/DiseaseMap?id=19CoV)\n",
        "\n",
        "https://od.cdc.gov.tw/eic/Weekly_Age_County_Gender_19CoV.csv"
      ],
      "metadata": {
        "id": "8k9J7bx_Ty6l"
      }
    },
    {
      "cell_type": "code",
      "execution_count": null,
      "metadata": {
        "id": "lzAFlWQfSlcy"
      },
      "outputs": [],
      "source": [
        "import pandas as pd\n",
        "df = pd.read_csv('https://od.cdc.gov.tw/eic/Weekly_Age_County_Gender_19CoV.csv')"
      ]
    }
  ]
}